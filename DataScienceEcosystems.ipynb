{
 "cells": [
  {
   "cell_type": "markdown",
   "id": "f1f9b8e8-90cf-4c0c-89a1-36642d2cbc54",
   "metadata": {},
   "source": [
    "# Data Science Tools and Ecosystem\n",
    "\n"
   ]
  },
  {
   "cell_type": "markdown",
   "id": "07e46ec1-e2e3-4629-986a-324234438b8a",
   "metadata": {},
   "source": [
    "In this notebook, Data Science Tools and Ecosystem are summarized. \n"
   ]
  },
  {
   "cell_type": "markdown",
   "id": "ae01892f-e293-4a10-a074-3b41a970ee49",
   "metadata": {},
   "source": [
    "Some of the popular languages that Data Scientists use are:\n",
    "\n",
    "1. Python: A versatile and beginner-friendly language widely used for data analysis, machine learning, and scientific computing.\n",
    "2. R: A powerful language specifically designed for statistical computing and graphics, popular in academia and data visualization.\n",
    "3. SQL: A structured query language essential for interacting with relational databases, a cornerstone of data extraction and manipulation.\n"
   ]
  },
  {
   "cell_type": "markdown",
   "id": "ba742240-d110-4506-abe5-d58936129da3",
   "metadata": {},
   "source": [
    "Some of the commonly used libraries used by Data Scientists include:\n",
    "\n",
    "1. **Python Libraries:**\n",
    "    - **NumPy (Numerical Python):** Provides powerful array manipulation, linear algebra, and mathematical functions for numerical computing.\n",
    "    - **Pandas:** Offers high-performance data structures (DataFrames and Series) for data analysis, cleaning, and manipulation.\n",
    "    - **Matplotlib:** A versatile library for creating various static, animated, and interactive visualizations.\n",
    "2. **R Libraries:**\n",
    "    - **dplyr:** Streamlines data manipulation tasks with a focus on readability and efficiency.\n",
    "    - **ggplot2:** Enables creation of elegant and informative statistical graphics with a layered grammar approach.\n",
    "    - **caret:** A comprehensive suite for machine learning tasks, including model training, tuning, and comparison.\n"
   ]
  },
  {
   "cell_type": "markdown",
   "id": "8a8ee90c-1069-4cda-99f4-5ccdb11ac36c",
   "metadata": {},
   "source": [
    "## Data Science Tools\n",
    "\n",
    "| Tool | Description |\n",
    "|---|---|\n",
    "| Jupyter Notebook | Interactive environment for code, data, and visualization |\n",
    "| RStudio | Integrated development environment (IDE) for R |\n",
    "| Apache Spark | Big data processing framework |\n",
    "| TensorFlow/PyTorch | Deep learning frameworks |\n",
    "| Tableau/Power BI | Data visualization tools |\n"
   ]
  },
  {
   "cell_type": "markdown",
   "id": "9ac7437b-fb93-4044-848e-22fd1f47a399",
   "metadata": {},
   "source": [
    "## Arithmetic Expressions\n",
    "\n",
    "Arithmetic expressions combine numbers and operators (+, -, *, /) to perform calculations.\n",
    "\n",
    "### Below are a few examples of evaluating arithmetic expressions in Python:\n"
   ]
  },
  {
   "cell_type": "code",
   "execution_count": 1,
   "id": "7741aeaa-d217-4108-b92b-6ea72e5f7800",
   "metadata": {
    "tags": []
   },
   "outputs": [
    {
     "name": "stdout",
     "output_type": "stream",
     "text": [
      "17\n"
     ]
    }
   ],
   "source": [
    "# This is a simple arithmetic expression to multiply then add integers\n",
    "result = (3 * 4) + 5\n",
    "\n",
    "# Print the result\n",
    "print(result)\n"
   ]
  },
  {
   "cell_type": "code",
   "execution_count": 2,
   "id": "f1562a88-0412-4e29-b2bb-f4f524984488",
   "metadata": {
    "tags": []
   },
   "outputs": [
    {
     "name": "stdout",
     "output_type": "stream",
     "text": [
      "200 minutes is equivalent to 3 hours and 20 minutes remaining.\n"
     ]
    }
   ],
   "source": [
    "# This will convert 200 minutes to hours by dividing by 60\n",
    "minutes = 200\n",
    "hours = minutes // 60\n",
    "remaining_minutes = minutes % 60\n",
    "\n",
    "# Print the results in a formatted string\n",
    "print(f\"{minutes} minutes is equivalent to {hours} hours and {remaining_minutes} minutes remaining.\")\n"
   ]
  },
  {
   "cell_type": "markdown",
   "id": "17055ae5-d594-48a1-b0f4-ae1e42626241",
   "metadata": {},
   "source": [
    "## Objectives:\n",
    "\n",
    "* **List popular languages for Data Science:** We explored commonly used languages like Python, R, and SQL in data science.\n",
    "* **Describe Data Science libraries:** We learned about some essential libraries like NumPy, Pandas, Matplotlib (Python), and dplyr, ggplot2 (R) for various data manipulation and visualization tasks.\n",
    "* **Introduce Data Science Tools:** We covered open-source development environment tools like Jupyter Notebook, RStudio, and Apache Zeppelin used in data science workflows.\n",
    "* **Perform basic arithmetic operations:** We created Python code examples to demonstrate arithmetic expressions (multiplication, addition) and converting minutes to hours.\n"
   ]
  },
  {
   "cell_type": "markdown",
   "id": "f6bc8437-b02c-4969-8248-a81984b62257",
   "metadata": {},
   "source": [
    "## Author\n",
    "\n",
    "Sagnik, a 3rd year Student\n",
    "\n"
   ]
  },
  {
   "cell_type": "code",
   "execution_count": null,
   "id": "1abbfe02-55d0-477b-8030-1998060a7b83",
   "metadata": {},
   "outputs": [],
   "source": []
  }
 ],
 "metadata": {
  "kernelspec": {
   "display_name": "Python",
   "language": "python",
   "name": "conda-env-python-py"
  },
  "language_info": {
   "codemirror_mode": {
    "name": "ipython",
    "version": 3
   },
   "file_extension": ".py",
   "mimetype": "text/x-python",
   "name": "python",
   "nbconvert_exporter": "python",
   "pygments_lexer": "ipython3",
   "version": "3.7.12"
  }
 },
 "nbformat": 4,
 "nbformat_minor": 5
}
